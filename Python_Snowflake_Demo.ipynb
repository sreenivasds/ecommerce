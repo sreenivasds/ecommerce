{
 "cells": [
  {
   "cell_type": "code",
   "execution_count": 1,
   "id": "31be2c2e-fe58-4e5b-81f4-370ec0def225",
   "metadata": {},
   "outputs": [
    {
     "name": "stdout",
     "output_type": "stream",
     "text": [
      "Requirement already satisfied: snowflake-connector-python in c:\\users\\sreen\\anaconda3\\lib\\site-packages (2.7.12)\n",
      "Requirement already satisfied: pycryptodomex!=3.5.0,<4.0.0,>=3.2 in c:\\users\\sreen\\anaconda3\\lib\\site-packages (from snowflake-connector-python) (3.15.0)\n",
      "Requirement already satisfied: idna<4,>=2.5 in c:\\users\\sreen\\anaconda3\\lib\\site-packages (from snowflake-connector-python) (3.2)\n",
      "Requirement already satisfied: typing-extensions<5,>=4.3 in c:\\users\\sreen\\anaconda3\\lib\\site-packages (from snowflake-connector-python) (4.4.0)\n",
      "Requirement already satisfied: asn1crypto<2.0.0,>0.24.0 in c:\\users\\sreen\\anaconda3\\lib\\site-packages (from snowflake-connector-python) (1.5.1)\n",
      "Requirement already satisfied: requests<3.0.0 in c:\\users\\sreen\\anaconda3\\lib\\site-packages (from snowflake-connector-python) (2.28.2)\n",
      "Requirement already satisfied: urllib3<1.27,>=1.21.1 in c:\\users\\sreen\\anaconda3\\lib\\site-packages (from snowflake-connector-python) (1.26.7)\n",
      "Requirement already satisfied: pytz in c:\\users\\sreen\\anaconda3\\lib\\site-packages (from snowflake-connector-python) (2021.3)\n",
      "Requirement already satisfied: cryptography<37.0.0,>=3.1.0 in c:\\users\\sreen\\anaconda3\\lib\\site-packages (from snowflake-connector-python) (3.4.8)\n",
      "Requirement already satisfied: charset-normalizer<3,>=2 in c:\\users\\sreen\\anaconda3\\lib\\site-packages (from snowflake-connector-python) (2.0.4)\n",
      "Requirement already satisfied: pyOpenSSL<23.0.0,>=16.2.0 in c:\\users\\sreen\\anaconda3\\lib\\site-packages (from snowflake-connector-python) (21.0.0)\n",
      "Requirement already satisfied: certifi>=2017.4.17 in c:\\users\\sreen\\anaconda3\\lib\\site-packages (from snowflake-connector-python) (2022.6.15)\n",
      "Requirement already satisfied: filelock<4,>=3.5 in c:\\users\\sreen\\anaconda3\\lib\\site-packages (from snowflake-connector-python) (3.8.0)\n",
      "Requirement already satisfied: cffi<2.0.0,>=1.9 in c:\\users\\sreen\\anaconda3\\lib\\site-packages (from snowflake-connector-python) (1.14.6)\n",
      "Requirement already satisfied: pyjwt<3.0.0 in c:\\users\\sreen\\anaconda3\\lib\\site-packages (from snowflake-connector-python) (2.1.0)\n",
      "Requirement already satisfied: oscrypto<2.0.0 in c:\\users\\sreen\\anaconda3\\lib\\site-packages (from snowflake-connector-python) (1.3.0)\n",
      "Requirement already satisfied: setuptools>34.0.0 in c:\\users\\sreen\\anaconda3\\lib\\site-packages (from snowflake-connector-python) (58.0.4)\n",
      "Requirement already satisfied: pycparser in c:\\users\\sreen\\anaconda3\\lib\\site-packages (from cffi<2.0.0,>=1.9->snowflake-connector-python) (2.20)\n",
      "Requirement already satisfied: six>=1.5.2 in c:\\users\\sreen\\anaconda3\\lib\\site-packages (from pyOpenSSL<23.0.0,>=16.2.0->snowflake-connector-python) (1.16.0)\n"
     ]
    }
   ],
   "source": [
    "!pip install snowflake-connector-python"
   ]
  },
  {
   "cell_type": "code",
   "execution_count": 1,
   "id": "0aab81c9-6bb2-413f-8f04-133730776a58",
   "metadata": {
    "tags": []
   },
   "outputs": [
    {
     "name": "stderr",
     "output_type": "stream",
     "text": [
      "C:\\Users\\Sreen\\anaconda3\\Lib\\site-packages\\snowflake\\connector\\options.py:108: UserWarning: You have an incompatible version of 'pyarrow' installed (11.0.0), please install a version that adheres to: 'pyarrow<10.1.0,>=10.0.1; extra == \"pandas\"'\n",
      "  warn_incompatible_dep(\n",
      "Failed to import ArrowResult. No Apache Arrow result set format can be used. ImportError: DLL load failed while importing arrow_iterator: The specified procedure could not be found.\n"
     ]
    }
   ],
   "source": [
    "import snowflake.connector as sf"
   ]
  },
  {
   "cell_type": "code",
   "execution_count": 3,
   "id": "ee233b9a-cd2f-4cce-8d86-c4b16b386929",
   "metadata": {},
   "outputs": [],
   "source": [
    "import pandas as pd"
   ]
  },
  {
   "cell_type": "code",
   "execution_count": 4,
   "id": "1255d5a4-c9d8-4eb6-a1cf-e1401b0b508d",
   "metadata": {},
   "outputs": [],
   "source": [
    "import numpy as np"
   ]
  },
  {
   "cell_type": "code",
   "execution_count": 2,
   "id": "40759cd0-314f-4d81-8b13-51027bca6667",
   "metadata": {
    "tags": []
   },
   "outputs": [],
   "source": [
    "ctx = sf.connect(user='sreenivaskalahasti',password='Jaanu1123$',account='ciqqsoi-hf76577')"
   ]
  },
  {
   "cell_type": "code",
   "execution_count": 3,
   "id": "4ca98a99-a1f7-4c06-b4e5-1bb20d23059b",
   "metadata": {
    "tags": []
   },
   "outputs": [
    {
     "data": {
      "text/plain": [
       "<snowflake.connector.connection.SnowflakeConnection at 0x1ffdb05c1d0>"
      ]
     },
     "execution_count": 3,
     "metadata": {},
     "output_type": "execute_result"
    }
   ],
   "source": [
    "ctx"
   ]
  },
  {
   "cell_type": "code",
   "execution_count": 4,
   "id": "2c90d94d-366c-47cb-a611-409c0b320363",
   "metadata": {
    "tags": []
   },
   "outputs": [],
   "source": [
    "cs = ctx.cursor()"
   ]
  },
  {
   "cell_type": "code",
   "execution_count": 5,
   "id": "e584ff03-0dd3-45b6-9dc9-4c24ecf3f268",
   "metadata": {
    "tags": []
   },
   "outputs": [
    {
     "data": {
      "text/plain": [
       "<snowflake.connector.cursor.SnowflakeCursor at 0x1ffdb4e8890>"
      ]
     },
     "execution_count": 5,
     "metadata": {},
     "output_type": "execute_result"
    }
   ],
   "source": [
    "cs"
   ]
  },
  {
   "cell_type": "code",
   "execution_count": 6,
   "id": "975a4a3c-0846-4c46-91c2-5c906dd05174",
   "metadata": {
    "tags": []
   },
   "outputs": [
    {
     "data": {
      "text/plain": [
       "<snowflake.connector.cursor.SnowflakeCursor at 0x1ffdb4e8890>"
      ]
     },
     "execution_count": 6,
     "metadata": {},
     "output_type": "execute_result"
    }
   ],
   "source": [
    "cs.execute(\"create or replace database snowflake_python_db\")"
   ]
  },
  {
   "cell_type": "code",
   "execution_count": 7,
   "id": "b14ce343-3d20-4c24-88ec-5b65804a2595",
   "metadata": {
    "tags": []
   },
   "outputs": [
    {
     "data": {
      "text/plain": [
       "<snowflake.connector.cursor.SnowflakeCursor at 0x1ffdb4e8890>"
      ]
     },
     "execution_count": 7,
     "metadata": {},
     "output_type": "execute_result"
    }
   ],
   "source": [
    "cs.execute(\"use snowflake_python_db\")"
   ]
  },
  {
   "cell_type": "code",
   "execution_count": 14,
   "id": "3591a204-2029-41f1-babc-9e7e003b89d7",
   "metadata": {
    "tags": []
   },
   "outputs": [
    {
     "data": {
      "text/plain": [
       "<snowflake.connector.cursor.SnowflakeCursor at 0x1ffdb4e8890>"
      ]
     },
     "execution_count": 14,
     "metadata": {},
     "output_type": "execute_result"
    }
   ],
   "source": [
    "cs.execute(\"select current_database()\")"
   ]
  },
  {
   "cell_type": "code",
   "execution_count": 12,
   "id": "df848463-9df2-4f24-9f29-41745d09073e",
   "metadata": {
    "tags": []
   },
   "outputs": [
    {
     "data": {
      "text/plain": [
       "<snowflake.connector.cursor.SnowflakeCursor at 0x1ffdb4e8890>"
      ]
     },
     "execution_count": 12,
     "metadata": {},
     "output_type": "execute_result"
    }
   ],
   "source": [
    "cs.execute(\"use ingest_data\")"
   ]
  },
  {
   "cell_type": "code",
   "execution_count": 15,
   "id": "04933f56-f3c6-41aa-b334-38196c1e1a57",
   "metadata": {
    "tags": []
   },
   "outputs": [
    {
     "name": "stdout",
     "output_type": "stream",
     "text": [
      "('INGEST_DATA',)\n"
     ]
    }
   ],
   "source": [
    "one_row = cs.fetchone()\n",
    "print(one_row)"
   ]
  },
  {
   "cell_type": "code",
   "execution_count": 16,
   "id": "c28aa420-5b7e-4f6e-b3e2-91b6cb4b38fc",
   "metadata": {
    "tags": []
   },
   "outputs": [
    {
     "data": {
      "text/plain": [
       "<snowflake.connector.cursor.SnowflakeCursor at 0x1ffdb4e8890>"
      ]
     },
     "execution_count": 16,
     "metadata": {},
     "output_type": "execute_result"
    }
   ],
   "source": [
    "cs.execute(\"create or replace table employee(eno number,ename varchar(50),salary number)\")"
   ]
  },
  {
   "cell_type": "code",
   "execution_count": 26,
   "id": "ce117822-4ce9-49b1-a7ce-5bedcc560f56",
   "metadata": {
    "tags": []
   },
   "outputs": [
    {
     "data": {
      "text/plain": [
       "<snowflake.connector.cursor.SnowflakeCursor at 0x1ffdb4e8890>"
      ]
     },
     "execution_count": 26,
     "metadata": {},
     "output_type": "execute_result"
    }
   ],
   "source": [
    "cs.execute(\"select current_warehouse()\")"
   ]
  },
  {
   "cell_type": "code",
   "execution_count": 23,
   "id": "021656ea-3220-498a-a566-694ee2424e4d",
   "metadata": {
    "tags": []
   },
   "outputs": [
    {
     "name": "stdout",
     "output_type": "stream",
     "text": [
      "('DEMO_WH',)\n"
     ]
    }
   ],
   "source": [
    "one_row = cs.fetchone()\n",
    "print(one_row)"
   ]
  },
  {
   "cell_type": "code",
   "execution_count": 24,
   "id": "662cb8ae-ffc5-4b99-890a-5d242b1081d7",
   "metadata": {
    "tags": []
   },
   "outputs": [
    {
     "data": {
      "text/plain": [
       "<snowflake.connector.cursor.SnowflakeCursor at 0x1ffdb4e8890>"
      ]
     },
     "execution_count": 24,
     "metadata": {},
     "output_type": "execute_result"
    }
   ],
   "source": [
    "cs.execute(\"create OR REPLACE warehouse demo_wh\")"
   ]
  },
  {
   "cell_type": "code",
   "execution_count": 27,
   "id": "174e4cb9-56ca-4dd9-8344-f43d0ca90f4b",
   "metadata": {
    "tags": []
   },
   "outputs": [
    {
     "name": "stdout",
     "output_type": "stream",
     "text": [
      "('DEMO_WH',)\n"
     ]
    }
   ],
   "source": [
    "one_row = cs.fetchone()\n",
    "print(one_row)"
   ]
  },
  {
   "cell_type": "code",
   "execution_count": 20,
   "id": "79c9bb33-c97a-46c0-8b72-186e215b2a0b",
   "metadata": {
    "tags": []
   },
   "outputs": [
    {
     "data": {
      "text/plain": [
       "<snowflake.connector.cursor.SnowflakeCursor at 0x1ffdb4e8890>"
      ]
     },
     "execution_count": 20,
     "metadata": {},
     "output_type": "execute_result"
    }
   ],
   "source": [
    "cs.execute(\"use warehouse DEMO_WH\")"
   ]
  },
  {
   "cell_type": "code",
   "execution_count": 28,
   "id": "97986f01-9aa5-474f-b28a-90a8f4fd31d5",
   "metadata": {
    "tags": []
   },
   "outputs": [
    {
     "data": {
      "text/plain": [
       "<snowflake.connector.cursor.SnowflakeCursor at 0x1ffdb4e8890>"
      ]
     },
     "execution_count": 28,
     "metadata": {},
     "output_type": "execute_result"
    }
   ],
   "source": [
    "cs.execute(\"insert into employee values(100,'Madhav',30000),(101,'Subbu',31000)\")"
   ]
  },
  {
   "cell_type": "code",
   "execution_count": 29,
   "id": "69c0549a-e887-4dfd-8d03-b14161c23d67",
   "metadata": {
    "tags": []
   },
   "outputs": [
    {
     "data": {
      "text/plain": [
       "<snowflake.connector.cursor.SnowflakeCursor at 0x1ffdb4e8890>"
      ]
     },
     "execution_count": 29,
     "metadata": {},
     "output_type": "execute_result"
    }
   ],
   "source": [
    "cs.execute(\"insert into employee values(102,'Madhu',30000),(103,'Subra',31000)\")"
   ]
  },
  {
   "cell_type": "code",
   "execution_count": 30,
   "id": "2fe91853-1d61-456e-80df-0ddb87ea2465",
   "metadata": {
    "tags": []
   },
   "outputs": [
    {
     "data": {
      "text/plain": [
       "<snowflake.connector.cursor.SnowflakeCursor at 0x1ffdb4e8890>"
      ]
     },
     "execution_count": 30,
     "metadata": {},
     "output_type": "execute_result"
    }
   ],
   "source": [
    "cs.execute(\"update employee set salary=35000 where eno=100\")"
   ]
  },
  {
   "cell_type": "code",
   "execution_count": 32,
   "id": "52d3c5de-9991-4cff-91fa-d88361f0924a",
   "metadata": {
    "tags": []
   },
   "outputs": [
    {
     "data": {
      "text/plain": [
       "<snowflake.connector.cursor.SnowflakeCursor at 0x1ffdb4e8890>"
      ]
     },
     "execution_count": 32,
     "metadata": {},
     "output_type": "execute_result"
    }
   ],
   "source": [
    "cs.execute(\"delete from employee where eno=103\")"
   ]
  },
  {
   "cell_type": "code",
   "execution_count": 18,
   "id": "29e50886-d009-4a92-b42b-b74c9ac14f86",
   "metadata": {},
   "outputs": [
    {
     "data": {
      "text/plain": [
       "<snowflake.connector.cursor.SnowflakeCursor at 0x16f288bf0a0>"
      ]
     },
     "execution_count": 18,
     "metadata": {},
     "output_type": "execute_result"
    }
   ],
   "source": [
    "cs.execute(\"select * from snowflake_sample_data.tpcds_sf100tcl.customer limit 20\")"
   ]
  },
  {
   "cell_type": "code",
   "execution_count": 38,
   "id": "1c40b9b0-f59c-4e63-8bd1-bcb53ef8f871",
   "metadata": {
    "tags": []
   },
   "outputs": [
    {
     "data": {
      "text/plain": [
       "<snowflake.connector.cursor.SnowflakeCursor at 0x1ffdb4e8890>"
      ]
     },
     "execution_count": 38,
     "metadata": {},
     "output_type": "execute_result"
    }
   ],
   "source": [
    "cs.execute(\"select * from ingest_data.public.employee\")"
   ]
  },
  {
   "cell_type": "code",
   "execution_count": 31,
   "id": "6cd495a3-fe15-4bf5-b071-258b792bfc42",
   "metadata": {},
   "outputs": [
    {
     "data": {
      "text/plain": [
       "<snowflake.connector.cursor.SnowflakeCursor at 0x16f288bf0a0>"
      ]
     },
     "execution_count": 31,
     "metadata": {},
     "output_type": "execute_result"
    }
   ],
   "source": [
    "cs.execute(\"create stream emp_stream2 on table employee\")"
   ]
  },
  {
   "cell_type": "code",
   "execution_count": 35,
   "id": "17d2959f-dcd7-40f0-848e-692df08d87c5",
   "metadata": {
    "tags": []
   },
   "outputs": [
    {
     "name": "stdout",
     "output_type": "stream",
     "text": [
      "(101, 'Subbu', 31000)\n"
     ]
    }
   ],
   "source": [
    "one_row = cs.fetchone()\n",
    "print(one_row)"
   ]
  },
  {
   "cell_type": "code",
   "execution_count": 36,
   "id": "6aa04802-f180-475f-a765-a817fe755fc0",
   "metadata": {
    "tags": []
   },
   "outputs": [
    {
     "name": "stdout",
     "output_type": "stream",
     "text": [
      "(102, 'Madhu', 30000)\n"
     ]
    }
   ],
   "source": [
    "print(cs.fetchone())"
   ]
  },
  {
   "cell_type": "code",
   "execution_count": 39,
   "id": "6e446028-622c-4341-b5c9-a24b7d7ab993",
   "metadata": {
    "tags": []
   },
   "outputs": [
    {
     "name": "stdout",
     "output_type": "stream",
     "text": [
      "[(101, 'Subbu', 31000), (102, 'Madhu', 30000)]\n"
     ]
    }
   ],
   "source": [
    "one_row = cs.fetchall()\n",
    "print(one_row)"
   ]
  },
  {
   "cell_type": "code",
   "execution_count": 40,
   "id": "4ac3198d-d9af-4178-a672-f2c78dbd59f6",
   "metadata": {
    "tags": []
   },
   "outputs": [],
   "source": [
    "cs.close()\n",
    "ctx.close()"
   ]
  },
  {
   "cell_type": "code",
   "execution_count": null,
   "id": "c659cd94-d42d-40af-888f-741b46084da6",
   "metadata": {},
   "outputs": [],
   "source": []
  }
 ],
 "metadata": {
  "kernelspec": {
   "display_name": "Python 3 (ipykernel)",
   "language": "python",
   "name": "python3"
  },
  "language_info": {
   "codemirror_mode": {
    "name": "ipython",
    "version": 3
   },
   "file_extension": ".py",
   "mimetype": "text/x-python",
   "name": "python",
   "nbconvert_exporter": "python",
   "pygments_lexer": "ipython3",
   "version": "3.11.3"
  }
 },
 "nbformat": 4,
 "nbformat_minor": 5
}
